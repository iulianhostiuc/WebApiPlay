{
  "nbformat": 4,
  "nbformat_minor": 0,
  "metadata": {
    "colab": {
      "name": "WebScrapper.ipynb",
      "provenance": [],
      "collapsed_sections": [],
      "authorship_tag": "ABX9TyN6a16bpyhluP/m2F2H9MXw",
      "include_colab_link": true
    },
    "kernelspec": {
      "name": "python2",
      "display_name": "Python 2"
    }
  },
  "cells": [
    {
      "cell_type": "markdown",
      "metadata": {
        "id": "view-in-github",
        "colab_type": "text"
      },
      "source": [
        "<a href=\"https://colab.research.google.com/github/iulianhostiuc/WebApiPlay/blob/master/WebScrapper.ipynb\" target=\"_parent\"><img src=\"https://colab.research.google.com/assets/colab-badge.svg\" alt=\"Open In Colab\"/></a>"
      ]
    },
    {
      "cell_type": "code",
      "metadata": {
        "id": "JQQRF4EjCXlq",
        "colab_type": "code",
        "colab": {}
      },
      "source": [
        "from bs4 import BeautifulSoup\n",
        "import requests\n",
        "\n",
        "import json\n",
        "url = 'http://ethans_fake_twitter_site.surge.sh/'\n",
        "\n",
        "response = requests.get(url, timeout=5)\n",
        "\n",
        "content = BeautifulSoup(response.content, \"html.parser\")\n",
        "tweetArr = []\n",
        "\n",
        "for tweet in content.findAll('div', attrs={\"class\": \"tweetcontainer\"}):\n",
        "    tweetObject = {\n",
        "        \"author\": tweet.find('h2', attrs={\"class\": \"author\"}).text.encode('utf-8'),\n",
        "        \"date\": tweet.find('h5', attrs={\"class\": \"dateTime\"}).text.encode('utf-8'),\n",
        "        \"tweet\": tweet.find('p', attrs={\"class\": \"content\"}).text.encode('utf-8'),\n",
        "        \"likes\": tweet.find('p', attrs={\"class\": \"likes\"}).text.encode('utf-8'),\n",
        "        \"shares\": tweet.find('p', attrs={\"class\": \"shares\"}).text.encode('utf-8')\n",
        "    }\n",
        "    tweetArr.append(tweetObject)\n",
        "\n",
        "with open('twitterData.json', 'w') as outfile:\n",
        "    json.dump(tweetArr, outfile)\n",
        "\n",
        "import json\n",
        "\n",
        "with open('twitterData.json') as json_data:\n",
        "    jsonData = json.load(json_data)\n",
        "\n",
        "for i in jsonData:\n",
        "    print i['date']\n"
      ],
      "execution_count": 0,
      "outputs": []
    }
  ]
}